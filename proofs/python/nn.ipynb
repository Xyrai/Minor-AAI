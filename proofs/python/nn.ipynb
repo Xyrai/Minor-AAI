version https://git-lfs.github.com/spec/v1
oid sha256:ffec5350a23f796edb897acd857909093fc79b8775a72c06aae2b6c1a441b2ed
size 7255
