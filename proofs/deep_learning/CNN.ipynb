version https://git-lfs.github.com/spec/v1
oid sha256:305a045df05f0734e9c71e66184883f71133d31c9a9f1b3fcc176a9417b6b9e6
size 7314506
