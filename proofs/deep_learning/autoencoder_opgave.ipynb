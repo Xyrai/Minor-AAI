version https://git-lfs.github.com/spec/v1
oid sha256:fcae0b4c9b9a323cf2b2cad2a06053fa2e0e512f5330e1337a1b4cf6d8d5c9a6
size 268413
