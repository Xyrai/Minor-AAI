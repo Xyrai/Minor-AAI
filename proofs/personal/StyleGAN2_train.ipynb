version https://git-lfs.github.com/spec/v1
oid sha256:105f00c1763b79d6986a1e56cf20e6ba3bbd4fe09b5b4a0adfc93e7bad949374
size 48697
