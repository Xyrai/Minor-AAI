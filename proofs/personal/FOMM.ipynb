version https://git-lfs.github.com/spec/v1
oid sha256:0a07dc7a5079425648a1cd978be85db40f33d72ad1a0f74c166aee83005c2a50
size 828460
