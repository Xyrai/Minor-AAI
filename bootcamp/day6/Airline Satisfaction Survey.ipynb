version https://git-lfs.github.com/spec/v1
oid sha256:244ebe1a42840fb0a3ed958eca068c99cdd4f552b5ab4e9a6e29da7b18194e54
size 309483
