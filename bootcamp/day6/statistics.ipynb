version https://git-lfs.github.com/spec/v1
oid sha256:04394fc880ebe90ee85ee0945eeaee91097bb23e156ee4bbd9687c1a7755a8e4
size 427460
