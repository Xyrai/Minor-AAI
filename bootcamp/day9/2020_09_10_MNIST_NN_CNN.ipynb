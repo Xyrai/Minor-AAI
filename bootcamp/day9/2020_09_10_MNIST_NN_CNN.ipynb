version https://git-lfs.github.com/spec/v1
oid sha256:e3c7af63e4212b23ba4da1219db964bd86aa5949ccf8d7d9af56d3ab04331bd5
size 19887
