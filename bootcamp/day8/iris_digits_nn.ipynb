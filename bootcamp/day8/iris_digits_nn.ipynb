version https://git-lfs.github.com/spec/v1
oid sha256:543dd7183e7d98c2453b8d0081b93ca06eae6ccab2640c3b7dd5c8050e6a9adc
size 19968
