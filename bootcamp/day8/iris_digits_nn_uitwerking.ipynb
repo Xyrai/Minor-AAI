version https://git-lfs.github.com/spec/v1
oid sha256:54e63f81dea8f6f818ac6d3e574091f296249a503b9f6e972bf10008ced48815
size 28271
