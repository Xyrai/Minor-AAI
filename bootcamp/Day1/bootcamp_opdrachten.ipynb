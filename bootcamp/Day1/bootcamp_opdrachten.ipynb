version https://git-lfs.github.com/spec/v1
oid sha256:e06c3ed8136ffcebfd7e0f0b967271bcd8c930ad4c02c3b4bc7e46bb1e1afcda
size 19371
