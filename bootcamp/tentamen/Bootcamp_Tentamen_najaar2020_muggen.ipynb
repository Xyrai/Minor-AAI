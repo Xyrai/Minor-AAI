version https://git-lfs.github.com/spec/v1
oid sha256:b67167eb89f83249d173c68bc8c644c15c80c4b4ee9c49dbccd53488ebd73b84
size 865233
