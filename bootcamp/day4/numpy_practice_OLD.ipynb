version https://git-lfs.github.com/spec/v1
oid sha256:0c8de3bc967c25c4dd06dffd4a5c10ed481e4c036407ca8b68ab1764a1a573a2
size 2622
