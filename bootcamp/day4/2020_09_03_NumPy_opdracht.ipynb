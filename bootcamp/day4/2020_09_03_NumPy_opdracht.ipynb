version https://git-lfs.github.com/spec/v1
oid sha256:5c2f86915ca9f3c46a9dda744fc0c49ecdc1bd2aed7129c946391796c03b9cce
size 26839
