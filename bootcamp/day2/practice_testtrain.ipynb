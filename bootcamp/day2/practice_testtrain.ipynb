version https://git-lfs.github.com/spec/v1
oid sha256:25a9ea4377191f0425c3b5e7d92cdb0aa0ceef16fd8ca3e819525b09ca88b386
size 45345
