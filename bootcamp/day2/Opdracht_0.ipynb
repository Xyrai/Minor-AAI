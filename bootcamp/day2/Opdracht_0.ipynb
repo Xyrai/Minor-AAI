version https://git-lfs.github.com/spec/v1
oid sha256:7fc94b0e2b18bba76202fa991a5faf69b07e01855637bab8d6e6eba4b8043883
size 278676
